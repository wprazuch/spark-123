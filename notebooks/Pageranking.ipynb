{
 "cells": [
  {
   "cell_type": "code",
   "execution_count": 1,
   "metadata": {},
   "outputs": [
    {
     "name": "stderr",
     "output_type": "stream",
     "text": [
      "Setting default log level to \"WARN\".\n",
      "To adjust logging level use sc.setLogLevel(newLevel). For SparkR, use setLogLevel(newLevel).\n",
      "23/06/19 10:54:28 WARN NativeCodeLoader: Unable to load native-hadoop library for your platform... using builtin-java classes where applicable\n"
     ]
    },
    {
     "data": {
      "text/html": [
       "\n",
       "        <div>\n",
       "            <p><b>SparkContext</b></p>\n",
       "\n",
       "            <p><a href=\"http://c02f40mtml85.nat.zabrze.vectranet.pl:4040\">Spark UI</a></p>\n",
       "\n",
       "            <dl>\n",
       "              <dt>Version</dt>\n",
       "                <dd><code>v3.4.0</code></dd>\n",
       "              <dt>Master</dt>\n",
       "                <dd><code>local</code></dd>\n",
       "              <dt>AppName</dt>\n",
       "                <dd><code>lecture-lyon2</code></dd>\n",
       "            </dl>\n",
       "        </div>\n",
       "        "
      ],
      "text/plain": [
       "<SparkContext master=local appName=lecture-lyon2>"
      ]
     },
     "execution_count": 1,
     "metadata": {},
     "output_type": "execute_result"
    }
   ],
   "source": [
    "from pyspark import SparkContext, SparkConf\n",
    "\n",
    "conf = SparkConf().setAppName('playground').setMaster('local')\n",
    "sc = SparkContext.getOrCreate(conf=conf)\n",
    "sc"
   ]
  },
  {
   "cell_type": "code",
   "execution_count": 2,
   "metadata": {},
   "outputs": [],
   "source": [
    "from pyspark.rdd import RDD\n",
    "\n",
    "import pandas as pd\n",
    "%matplotlib inline"
   ]
  },
  {
   "cell_type": "code",
   "execution_count": 3,
   "metadata": {},
   "outputs": [],
   "source": [
    "def ungroup_input(sc, system):\n",
    "    \"\"\"\n",
    "    Generate the websystem as an RDD of tuples (page, neighbor page)\n",
    "    \"\"\"\n",
    "    system = system.flatMap(lambda x: [(x[0], y) for y in x[1]])\n",
    "    return system"
   ]
  },
  {
   "cell_type": "code",
   "execution_count": 4,
   "metadata": {},
   "outputs": [
    {
     "name": "stderr",
     "output_type": "stream",
     "text": [
      "                                                                                \r"
     ]
    }
   ],
   "source": [
    "\"\"\"\n",
    "Graded cell\n",
    "\n",
    "2 points\n",
    "\"\"\"\n",
    "system = sc.parallelize([\n",
    "        ('a', ['b','c','d']),\n",
    "        ('c', ['b']), \n",
    "        ('b', ['c','d']), \n",
    "        ('d', ['a','c'])\n",
    "    ])\n",
    "result = ungroup_input(sc, system).collect()\n",
    "assert result == [\n",
    "    ('a', 'b'), ('a', 'c'), ('a', 'd'), \n",
    "    ('c', 'b'), \n",
    "    ('b', 'c'), ('b', 'd'), \n",
    "    ('d', 'a'), ('d', 'c')\n",
    "]"
   ]
  },
  {
   "cell_type": "code",
   "execution_count": 5,
   "metadata": {},
   "outputs": [],
   "source": [
    "def group_input(sc, system):\n",
    "    \"\"\"\n",
    "    Generate the websystem as an RDD of tuples (page, list of neighbors)\n",
    "    \"\"\"\n",
    "    # YOUR CODE HERE\n",
    "    system = system.reduceByKey(lambda x,y: x+y)\n",
    "    system = system.map(lambda x: (x[0], list(set(x[1]))))\n",
    "    return system"
   ]
  },
  {
   "cell_type": "code",
   "execution_count": 6,
   "metadata": {},
   "outputs": [
    {
     "name": "stderr",
     "output_type": "stream",
     "text": [
      "[Stage 1:>                                                          (0 + 1) / 1]\r"
     ]
    },
    {
     "name": "stdout",
     "output_type": "stream",
     "text": [
      "[('a', ['b', 'c', 'd']), ('c', ['b']), ('b', ['c', 'd']), ('d', ['a', 'c'])]\n"
     ]
    },
    {
     "name": "stderr",
     "output_type": "stream",
     "text": [
      "                                                                                \r"
     ]
    }
   ],
   "source": [
    "\"\"\"\n",
    "Graded cell\n",
    "\n",
    "2 points\n",
    "\"\"\"\n",
    "system = sc.parallelize([('a', 'b'), ('a', 'c'), ('a', 'd'), ('c', 'b'), ('b', 'c'), ('b', 'd'), ('d', 'a'), ('d', 'c')])\n",
    "result = group_input(sc, system).collect()\n",
    "print(result)\n",
    "assert result == [\n",
    "        ('a', ['b','c','d']),\n",
    "        ('c', ['b']), \n",
    "        ('b', ['c','d']), \n",
    "        ('d', ['a','c'])\n",
    "    ]"
   ]
  },
  {
   "cell_type": "code",
   "execution_count": 7,
   "metadata": {},
   "outputs": [],
   "source": [
    "def computeContribs(urls, rank):\n",
    "    \"\"\"\n",
    "    Calculates URL contributions to the rank of other URLs.\n",
    "    \"\"\"\n",
    "    # YOUR CODE HERE\n",
    "    contribs = [(k, rank/len(urls)) for k in urls]\n",
    "    return contribs"
   ]
  },
  {
   "cell_type": "code",
   "execution_count": 8,
   "metadata": {},
   "outputs": [],
   "source": [
    "\"\"\"\n",
    "Graded cell\n",
    "\n",
    "2 points\n",
    "\"\"\"\n",
    "assert computeContribs(['b', 'c', 'd'], 1) == [('b', 1/3), ('c', 1/3), ('d', 1/3)]"
   ]
  },
  {
   "cell_type": "code",
   "execution_count": 9,
   "metadata": {},
   "outputs": [],
   "source": [
    "def generate_contributions(sc, links, ranks):\n",
    "    \"\"\"\n",
    "    Calculates URL contributions to the rank of other URLs.\n",
    "    \"\"\"\n",
    "    # YOUR CODE HERE\n",
    "    raise NotImplementedError()"
   ]
  },
  {
   "cell_type": "code",
   "execution_count": 10,
   "metadata": {},
   "outputs": [
    {
     "ename": "NotImplementedError",
     "evalue": "",
     "output_type": "error",
     "traceback": [
      "\u001b[0;31m---------------------------------------------------------------------------\u001b[0m",
      "\u001b[0;31mNotImplementedError\u001b[0m                       Traceback (most recent call last)",
      "Cell \u001b[0;32mIn[10], line 20\u001b[0m\n\u001b[1;32m      6\u001b[0m links \u001b[39m=\u001b[39m sc\u001b[39m.\u001b[39mparallelize([\n\u001b[1;32m      7\u001b[0m         (\u001b[39m'\u001b[39m\u001b[39ma\u001b[39m\u001b[39m'\u001b[39m, [\u001b[39m'\u001b[39m\u001b[39mb\u001b[39m\u001b[39m'\u001b[39m,\u001b[39m'\u001b[39m\u001b[39mc\u001b[39m\u001b[39m'\u001b[39m,\u001b[39m'\u001b[39m\u001b[39md\u001b[39m\u001b[39m'\u001b[39m]),\n\u001b[1;32m      8\u001b[0m         (\u001b[39m'\u001b[39m\u001b[39mc\u001b[39m\u001b[39m'\u001b[39m, [\u001b[39m'\u001b[39m\u001b[39mb\u001b[39m\u001b[39m'\u001b[39m]), \n\u001b[1;32m      9\u001b[0m         (\u001b[39m'\u001b[39m\u001b[39mb\u001b[39m\u001b[39m'\u001b[39m, [\u001b[39m'\u001b[39m\u001b[39mc\u001b[39m\u001b[39m'\u001b[39m,\u001b[39m'\u001b[39m\u001b[39md\u001b[39m\u001b[39m'\u001b[39m]), \n\u001b[1;32m     10\u001b[0m         (\u001b[39m'\u001b[39m\u001b[39md\u001b[39m\u001b[39m'\u001b[39m, [\u001b[39m'\u001b[39m\u001b[39ma\u001b[39m\u001b[39m'\u001b[39m,\u001b[39m'\u001b[39m\u001b[39mc\u001b[39m\u001b[39m'\u001b[39m])\n\u001b[1;32m     11\u001b[0m     ])\n\u001b[1;32m     13\u001b[0m ranks \u001b[39m=\u001b[39m sc\u001b[39m.\u001b[39mparallelize([\n\u001b[1;32m     14\u001b[0m         (\u001b[39m'\u001b[39m\u001b[39ma\u001b[39m\u001b[39m'\u001b[39m, \u001b[39m1.0\u001b[39m),\n\u001b[1;32m     15\u001b[0m         (\u001b[39m'\u001b[39m\u001b[39mc\u001b[39m\u001b[39m'\u001b[39m, \u001b[39m3.0\u001b[39m), \n\u001b[1;32m     16\u001b[0m         (\u001b[39m'\u001b[39m\u001b[39mb\u001b[39m\u001b[39m'\u001b[39m, \u001b[39m2.0\u001b[39m), \n\u001b[1;32m     17\u001b[0m         (\u001b[39m'\u001b[39m\u001b[39md\u001b[39m\u001b[39m'\u001b[39m, \u001b[39m4.0\u001b[39m)\n\u001b[1;32m     18\u001b[0m ])\n\u001b[0;32m---> 20\u001b[0m \u001b[39massert\u001b[39;00m generate_contributions(sc, links, ranks)\u001b[39m.\u001b[39mcollect() \u001b[39m==\u001b[39m [\n\u001b[1;32m     21\u001b[0m     (\u001b[39m'\u001b[39m\u001b[39mb\u001b[39m\u001b[39m'\u001b[39m, \u001b[39m3.0\u001b[39m), \u001b[39m# contribution from c\u001b[39;00m\n\u001b[1;32m     22\u001b[0m     (\u001b[39m'\u001b[39m\u001b[39mc\u001b[39m\u001b[39m'\u001b[39m, \u001b[39m1.0\u001b[39m), (\u001b[39m'\u001b[39m\u001b[39md\u001b[39m\u001b[39m'\u001b[39m, \u001b[39m1.0\u001b[39m), \u001b[39m# contribution from b\u001b[39;00m\n\u001b[1;32m     23\u001b[0m     (\u001b[39m'\u001b[39m\u001b[39ma\u001b[39m\u001b[39m'\u001b[39m, \u001b[39m2.0\u001b[39m), (\u001b[39m'\u001b[39m\u001b[39mc\u001b[39m\u001b[39m'\u001b[39m, \u001b[39m2.0\u001b[39m), \u001b[39m# contribution from d\u001b[39;00m\n\u001b[1;32m     24\u001b[0m     (\u001b[39m'\u001b[39m\u001b[39mb\u001b[39m\u001b[39m'\u001b[39m, \u001b[39m1\u001b[39m\u001b[39m/\u001b[39m\u001b[39m3\u001b[39m), (\u001b[39m'\u001b[39m\u001b[39mc\u001b[39m\u001b[39m'\u001b[39m, \u001b[39m1\u001b[39m\u001b[39m/\u001b[39m\u001b[39m3\u001b[39m), (\u001b[39m'\u001b[39m\u001b[39md\u001b[39m\u001b[39m'\u001b[39m, \u001b[39m1\u001b[39m\u001b[39m/\u001b[39m\u001b[39m3\u001b[39m) \u001b[39m# contribution from a \u001b[39;00m\n\u001b[1;32m     25\u001b[0m ]\n",
      "Cell \u001b[0;32mIn[9], line 6\u001b[0m, in \u001b[0;36mgenerate_contributions\u001b[0;34m(sc, links, ranks)\u001b[0m\n\u001b[1;32m      2\u001b[0m \u001b[39m\u001b[39m\u001b[39m\"\"\"\u001b[39;00m\n\u001b[1;32m      3\u001b[0m \u001b[39mCalculates URL contributions to the rank of other URLs.\u001b[39;00m\n\u001b[1;32m      4\u001b[0m \u001b[39m\"\"\"\u001b[39;00m\n\u001b[1;32m      5\u001b[0m \u001b[39m# YOUR CODE HERE\u001b[39;00m\n\u001b[0;32m----> 6\u001b[0m \u001b[39mraise\u001b[39;00m \u001b[39mNotImplementedError\u001b[39;00m()\n",
      "\u001b[0;31mNotImplementedError\u001b[0m: "
     ]
    }
   ],
   "source": [
    "\"\"\"\n",
    "Graded cell\n",
    "\n",
    "2 points\n",
    "\"\"\"\n",
    "links = sc.parallelize([\n",
    "        ('a', ['b','c','d']),\n",
    "        ('c', ['b']), \n",
    "        ('b', ['c','d']), \n",
    "        ('d', ['a','c'])\n",
    "    ])\n",
    "\n",
    "ranks = sc.parallelize([\n",
    "        ('a', 1.0),\n",
    "        ('c', 3.0), \n",
    "        ('b', 2.0), \n",
    "        ('d', 4.0)\n",
    "])\n",
    "\n",
    "assert generate_contributions(sc, links, ranks).collect() == [\n",
    "    ('b', 3.0), # contribution from c\n",
    "    ('c', 1.0), ('d', 1.0), # contribution from b\n",
    "    ('a', 2.0), ('c', 2.0), # contribution from d\n",
    "    ('b', 1/3), ('c', 1/3), ('d', 1/3) # contribution from a \n",
    "]"
   ]
  },
  {
   "cell_type": "code",
   "execution_count": null,
   "metadata": {},
   "outputs": [],
   "source": []
  },
  {
   "cell_type": "code",
   "execution_count": null,
   "metadata": {},
   "outputs": [],
   "source": []
  },
  {
   "cell_type": "code",
   "execution_count": null,
   "metadata": {},
   "outputs": [],
   "source": []
  },
  {
   "cell_type": "code",
   "execution_count": null,
   "metadata": {},
   "outputs": [],
   "source": []
  },
  {
   "cell_type": "code",
   "execution_count": null,
   "metadata": {},
   "outputs": [],
   "source": []
  },
  {
   "cell_type": "code",
   "execution_count": null,
   "metadata": {},
   "outputs": [],
   "source": []
  }
 ],
 "metadata": {
  "kernelspec": {
   "display_name": ".venv",
   "language": "python",
   "name": "python3"
  },
  "language_info": {
   "codemirror_mode": {
    "name": "ipython",
    "version": 3
   },
   "file_extension": ".py",
   "mimetype": "text/x-python",
   "name": "python",
   "nbconvert_exporter": "python",
   "pygments_lexer": "ipython3",
   "version": "3.10.9"
  },
  "orig_nbformat": 4
 },
 "nbformat": 4,
 "nbformat_minor": 2
}
